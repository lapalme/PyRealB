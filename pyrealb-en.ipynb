{
 "cells": [
  {
   "attachments": {},
   "cell_type": "markdown",
   "metadata": {},
   "source": [
    "# Experimenting with `pyrealb`\n",
    "\n",
    "This Jupyter notebook shows a few live examples of text realization with **pyrealb**.  \n",
    "\n",
    "**pyrealb** is a system for realizing English or French Sentences from a specification given as a Python structure built with constructor and function calls.\n",
    "\n",
    "The names of constructors have been chosen to be similar to the usual conventions in constituent grammars: terminals embedded in phrases each of them can be modified by options specified using object property functions. It is also possible to use a dependency syntax notation to build sentences.\n",
    "\n",
    "**pyrealb** manages automatically conjugation, declensions and most agreements between constituents. One important feature is the fact that once an affirmative sentence has been defined, many variants (e.g. negative, passive, interrogative, etc.) can be obtained by just adding specific options. Not all options are described in this document, the complete list can be found in the [**pyrealb** documentation](docs/documentation.html).\n",
    "\n",
    "This *Jupyter* notebook briefly introduces **pyrealb** syntax with a few simple examples and also shows more challenging ones.  You can modify the examples and immediately see the effects on the realization. Once an expression is modified, it can be executed with (shift-return) or by clicking one of the appropriate buttoons.\n",
    "\n",
    "*Nota bene*: When **pyrealb** detects a specification error which often results in realizing a word between double square brackets `[[...]]`, it also writes a warning on the console which is displayed before the result. \n",
    "\n",
    "First import the package and indicate that English text will be realized."
   ]
  },
  {
   "cell_type": "code",
   "execution_count": 21,
   "metadata": {},
   "outputs": [],
   "source": [
    "# uncomment the following two statements at the launch of the notebook\n",
    "# import sys,os\n",
    "# sys.path.append(os.path.join(os.path.abspath(\"\"),'src'))\n",
    "from pyrealb import *\n",
    "loadEn() "
   ]
  },
  {
   "attachments": {},
   "cell_type": "markdown",
   "metadata": {},
   "source": [
    "## Creation and realization of a first word\n",
    "\n",
    "We call a constructor to create a Python structure, for example to create a noun."
   ]
  },
  {
   "cell_type": "code",
   "execution_count": 6,
   "metadata": {},
   "outputs": [
    {
     "data": {
      "text/plain": [
       "<pyrealb.Terminal.N at 0x112e1e6d8>"
      ]
     },
     "execution_count": 6,
     "metadata": {},
     "output_type": "execute_result"
    }
   ],
   "source": [
    "N('cat')"
   ]
  },
  {
   "attachments": {},
   "cell_type": "markdown",
   "metadata": {},
   "source": [
    "This call shows that a Python object of type `Terminal` has been created. As we will show, this object can be saved in a variable, used and modified like any Python object. Its realization is obtained by asking for its string value with `str(..)` (`print(..)` does this implicitely) or by calling the object function property `.realize()`.\n",
    "\n",
    "To simplify notation in the rest of this notebook, we define a function to realize each argument and create a string joining the realizations separated by a comma."
   ]
  },
  {
   "cell_type": "code",
   "execution_count": 8,
   "metadata": {},
   "outputs": [],
   "source": [
    "def realize(*exps):\n",
    "    return \", \".join(exp.realize() for exp in exps)"
   ]
  },
  {
   "attachments": {},
   "cell_type": "markdown",
   "metadata": {},
   "source": [
    "It can be called as follows:"
   ]
  },
  {
   "cell_type": "code",
   "execution_count": 13,
   "metadata": {},
   "outputs": [
    {
     "data": {
      "text/plain": [
       "'cat, dog'"
      ]
     },
     "execution_count": 13,
     "metadata": {},
     "output_type": "execute_result"
    }
   ],
   "source": [
    "realize(N('cat'),N(\"dog\"))"
   ]
  },
  {
   "attachments": {},
   "cell_type": "markdown",
   "metadata": {},
   "source": [
    "## Terminal creation\n",
    "The constructor is called by giving the base form as parameter:\n",
    "* singular for an article or a noun"
   ]
  },
  {
   "cell_type": "code",
   "execution_count": 14,
   "metadata": {},
   "outputs": [
    {
     "data": {
      "text/plain": [
       "'a, cat'"
      ]
     },
     "execution_count": 14,
     "metadata": {},
     "output_type": "execute_result"
    }
   ],
   "source": [
    "realize(D(\"a\"),\n",
    "        N(\"cat\"))"
   ]
  },
  {
   "attachments": {},
   "cell_type": "markdown",
   "metadata": {},
   "source": [
    "* infinitive for a verb which is conjugated to the present tense at the 3rd person singular"
   ]
  },
  {
   "cell_type": "code",
   "execution_count": 15,
   "metadata": {},
   "outputs": [
    {
     "data": {
      "text/plain": [
       "'loves'"
      ]
     },
     "execution_count": 15,
     "metadata": {},
     "output_type": "execute_result"
    }
   ],
   "source": [
    "realize(V(\"love\"))"
   ]
  },
  {
   "attachments": {},
   "cell_type": "markdown",
   "metadata": {},
   "source": [
    "* first person singular for a pronoun which is declined by default at neutral 3rd person singular"
   ]
  },
  {
   "cell_type": "code",
   "execution_count": 17,
   "metadata": {},
   "outputs": [
    {
     "data": {
      "text/plain": [
       "'it'"
      ]
     },
     "execution_count": 17,
     "metadata": {},
     "output_type": "execute_result"
    }
   ],
   "source": [
    "realize(Pro(\"I\"))"
   ]
  },
  {
   "attachments": {},
   "cell_type": "markdown",
   "metadata": {},
   "source": [
    "* adjective, adverb, preposition, conjunction and *canned text*, with the base form which is not declined in English"
   ]
  },
  {
   "cell_type": "code",
   "execution_count": 16,
   "metadata": {},
   "outputs": [
    {
     "data": {
      "text/plain": [
       "'good, so, of, or, Wow!!'"
      ]
     },
     "execution_count": 16,
     "metadata": {},
     "output_type": "execute_result"
    }
   ],
   "source": [
    "realize(A(\"good\"),\n",
    "        Adv(\"so\"),\n",
    "        P(\"of\"),\n",
    "        C(\"or\"),\n",
    "        Q(\"Wow!!\"))"
   ]
  },
  {
   "attachments": {},
   "cell_type": "markdown",
   "metadata": {},
   "source": [
    "* date and time specified with the usual JavaScript syntax. When called without argument, it returns the current date and time. We will see later how to display specific fields of a date."
   ]
  },
  {
   "cell_type": "code",
   "execution_count": 19,
   "metadata": {},
   "outputs": [
    {
     "data": {
      "text/plain": [
       "'on Friday, December 25, 2020 at 0:00:00 a.m., on Thursday, January 26, 2023 at 11:20:14 p.m.'"
      ]
     },
     "execution_count": 19,
     "metadata": {},
     "output_type": "execute_result"
    }
   ],
   "source": [
    "realize(DT(\"2020-12-25\"),\n",
    "        DT())"
   ]
  },
  {
   "attachments": {},
   "cell_type": "markdown",
   "metadata": {},
   "source": [
    "* number corresponding the numeric value given as parameter"
   ]
  },
  {
   "cell_type": "code",
   "execution_count": 20,
   "metadata": {},
   "outputs": [
    {
     "data": {
      "text/plain": [
       "'123, 45,678'"
      ]
     },
     "execution_count": 20,
     "metadata": {},
     "output_type": "execute_result"
    }
   ],
   "source": [
    "realize(NO(123),\n",
    "        NO(45678))"
   ]
  },
  {
   "cell_type": "markdown",
   "metadata": {},
   "source": []
  }
 ],
 "metadata": {
  "kernelspec": {
   "display_name": "venv",
   "language": "python",
   "name": "python3"
  },
  "language_info": {
   "codemirror_mode": {
    "name": "ipython",
    "version": 3
   },
   "file_extension": ".py",
   "mimetype": "text/x-python",
   "name": "python",
   "nbconvert_exporter": "python",
   "pygments_lexer": "ipython3",
   "version": "3.7.0"
  },
  "orig_nbformat": 4,
  "vscode": {
   "interpreter": {
    "hash": "3e63a778d16814d1c62a1d790d9af60398a8006439f1cc1266a2818f1eb628f0"
   }
  }
 },
 "nbformat": 4,
 "nbformat_minor": 2
}
